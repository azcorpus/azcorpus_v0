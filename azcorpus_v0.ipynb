{
  "cells": [
    {
      "cell_type": "markdown",
      "source": [
        "# __azcorpus - The largest open-source NLP corpus for Azerbaijani (1.9M documents, ~ 18M sentences)__\n",
        "\n",
        "![](https://user-images.githubusercontent.com/31247506/229346998-1e08344b-26fc-4978-89f7-0ecba076fe25.png)\n",
        "\n",
        "\n",
        "“azcorpus” built for text generation purposes contains a total of 1.9 million documents, drawn from a variety of sources. The corpus is designed to provide a broad range of linguistic data for natural language processing and organized by genre and topic, with texts covering a range of subjects including politics, economics, science, culture, sport, history, society and etc.\n",
        "\n",
        "\n",
        "For more information, please refer to the official [dataset card.](https://huggingface.co/datasets/azcorpus/azcorpus_v0)\n",
        "\n",
        "\n"
      ],
      "metadata": {
        "id": "NAWBaq8-1HPZ"
      }
    },
    {
      "cell_type": "markdown",
      "source": [
        "The present notebook elucidates the process of accessing and utilizing azcorpus on your local machine.\n",
        "\n",
        "\n",
        "## __Steps__\n",
        "\n",
        "### __1. Provide contact information and send request__\n",
        "\n",
        "### __2. Create a new User Access Token__\n",
        "\n",
        "### __3. Load the dataset__\n",
        "\n",
        "#### __Feedback any issues__\n",
        "\n",
        "#### __F.A.Q__\n",
        "\n",
        "\n"
      ],
      "metadata": {
        "id": "Cs3UJPwa2j7O"
      }
    },
    {
      "cell_type": "markdown",
      "source": [
        "#### __1. Provide contact information and send request__\n",
        "\n",
        "In order to gain access to the azcorpus corpus, it is necessary to provide contact information and state the purpose for which the corpus will be utilized. The inclusion of contact information serves to establish a means of communication between the user and the provider of the corpus, while the disclosure of the purpose for which the corpus will be used serves to ensure that it is being utilized in a manner consistent with ethical and legal guidelines.\n",
        "\n",
        "Additionally, providing contact information and purpose of use can aid in the development and improvement of the corpus itself, as it allows for feedback and suggestions to be provided by the user community. This can lead to the refinement and enrichment of the corpus, ultimately enhancing its usefulness and value as a linguistic resource.\n",
        "\n",
        "It is worth noting that the use of azcorpus subject to certain terms and conditions, including limitations on commercial use and restrictions on data redistribution. As such, it is recommended that review relevant agreements or licenses prior to accessing and utilizing the corpus.\n",
        "\n",
        "\n",
        "![](https://user-images.githubusercontent.com/31247506/229776654-1eea6abe-3f8f-4c72-9065-f519b762d3d2.PNG)\n",
        "\n",
        "Access requests will be manually reviewed and approved by the corpus authors. Only users whose access requests have been approved will be able to access the corpus’s content.\n",
        "\n",
        "\n"
      ],
      "metadata": {
        "id": "a8Gyc99s_G02"
      }
    },
    {
      "cell_type": "markdown",
      "source": [
        "#### __2. Create a new User Access Token__\n",
        "\n",
        "To create an access token, go to your huggingface settings, then click on the Access Tokens tab. Click on the New token button to create a new User Access Token. You can follow this [link](https://huggingface.co/docs/hub/security-tokens) for more information.\n",
        "\n",
        "![](https://user-images.githubusercontent.com/31247506/229777801-79ea8d7f-8926-4bed-80ea-c0967240af73.PNG)"
      ],
      "metadata": {
        "id": "fdwE8CN5AywB"
      }
    },
    {
      "cell_type": "markdown",
      "source": [
        "### __3. Load the dataset__\n",
        "\n",
        "You can load the full corpus with the following code."
      ],
      "metadata": {
        "id": "9_-5Anv3BrEg"
      }
    },
    {
      "cell_type": "code",
      "execution_count": null,
      "metadata": {
        "id": "5znxPUrvhTkc"
      },
      "outputs": [],
      "source": [
        "!pip install datasets\n",
        "!pip install --upgrade huggingface-hub"
      ]
    },
    {
      "cell_type": "code",
      "execution_count": null,
      "metadata": {
        "id": "h_dXFVEDhV5D"
      },
      "outputs": [],
      "source": [
        "from datasets import load_dataset"
      ]
    },
    {
      "cell_type": "code",
      "execution_count": null,
      "metadata": {
        "id": "tBfWnbMJhgmG"
      },
      "outputs": [],
      "source": [
        "# paste your token\n",
        "token = 'your_token'\n",
        "\n",
        "# import the relavant libraries for loggin in\n",
        "from huggingface_hub import HfApi, HfFolder\n",
        "\n",
        "# set api for login and save token\n",
        "api=HfApi()\n",
        "api.set_access_token(token)\n",
        "folder = HfFolder()\n",
        "folder.save_token(token)"
      ]
    },
    {
      "cell_type": "code",
      "execution_count": null,
      "metadata": {
        "colab": {
          "base_uri": "https://localhost:8080/",
          "height": 606,
          "referenced_widgets": [
            "490559bedf884318bd121cd8f38046ad",
            "514e75da596347ca9f26b02b89f67c28",
            "e234faef77b64368934b39b2fb991d1a",
            "d7c9907772b84522960e7ab4ab4a72ef",
            "54602cea0c754328a32cca46ada4a234",
            "d1e1fc785a6c4040b2d44a8f98a37e2d",
            "9c4a06808a1b445f9f9fc0453c24b953",
            "68eba64fabaa46c98fc016461d6ff975",
            "c98e85846f484630b9ea331d05db9edd",
            "f24a74aff8cb4234914f90271a07d19a",
            ""
          ]
        },
        "id": "Xc8xBCjlhhXZ",
        "outputId": "03e14521-1efd-4977-8854-08b9c5584356"
      },
      "outputs": [
        {
          "name": "stdout",
          "output_type": "stream",
          "text": [
            "Downloading and preparing dataset json/azcorpus--azcorpus_v0 to C:/Users/NijatZ/.cache/huggingface/datasets/azcorpus___json/azcorpus--azcorpus_v0-3db7312adfab2050/0.0.0/fe5dd6ea2639a6df622901539cb550cf8797e5a6b2dd7af1cf934bed8e233e6e...\n"
          ]
        },
        {
          "data": {
            "application/vnd.jupyter.widget-view+json": {
              "model_id": "490559bedf884318bd121cd8f38046ad",
              "version_major": 2,
              "version_minor": 0
            },
            "text/plain": [
              "Downloading data files:   0%|          | 0/1 [00:00<?, ?it/s]"
            ]
          },
          "metadata": {},
          "output_type": "display_data"
        },
        {
          "data": {
            "application/vnd.jupyter.widget-view+json": {
              "model_id": "514e75da596347ca9f26b02b89f67c28",
              "version_major": 2,
              "version_minor": 0
            },
            "text/plain": [
              "Downloading data:   0%|          | 0.00/1.14M [00:00<?, ?B/s]"
            ]
          },
          "metadata": {},
          "output_type": "display_data"
        },
        {
          "data": {
            "application/vnd.jupyter.widget-view+json": {
              "model_id": "e234faef77b64368934b39b2fb991d1a",
              "version_major": 2,
              "version_minor": 0
            },
            "text/plain": [
              "Downloading data:   0%|          | 0.00/1.07M [00:00<?, ?B/s]"
            ]
          },
          "metadata": {},
          "output_type": "display_data"
        },
        {
          "data": {
            "application/vnd.jupyter.widget-view+json": {
              "model_id": "d7c9907772b84522960e7ab4ab4a72ef",
              "version_major": 2,
              "version_minor": 0
            },
            "text/plain": [
              "Downloading data:   0%|          | 0.00/1.12M [00:00<?, ?B/s]"
            ]
          },
          "metadata": {},
          "output_type": "display_data"
        },
        {
          "data": {
            "application/vnd.jupyter.widget-view+json": {
              "model_id": "54602cea0c754328a32cca46ada4a234",
              "version_major": 2,
              "version_minor": 0
            },
            "text/plain": [
              "Downloading data:   0%|          | 0.00/1.15M [00:00<?, ?B/s]"
            ]
          },
          "metadata": {},
          "output_type": "display_data"
        },
        {
          "data": {
            "application/vnd.jupyter.widget-view+json": {
              "model_id": "d1e1fc785a6c4040b2d44a8f98a37e2d",
              "version_major": 2,
              "version_minor": 0
            },
            "text/plain": [
              "Downloading data:   0%|          | 0.00/1.17M [00:00<?, ?B/s]"
            ]
          },
          "metadata": {},
          "output_type": "display_data"
        },
        {
          "data": {
            "application/vnd.jupyter.widget-view+json": {
              "model_id": "9c4a06808a1b445f9f9fc0453c24b953",
              "version_major": 2,
              "version_minor": 0
            },
            "text/plain": [
              "Downloading data:   0%|          | 0.00/1.07M [00:00<?, ?B/s]"
            ]
          },
          "metadata": {},
          "output_type": "display_data"
        },
        {
          "data": {
            "application/vnd.jupyter.widget-view+json": {
              "model_id": "68eba64fabaa46c98fc016461d6ff975",
              "version_major": 2,
              "version_minor": 0
            },
            "text/plain": [
              "Downloading data:   0%|          | 0.00/1.08M [00:00<?, ?B/s]"
            ]
          },
          "metadata": {},
          "output_type": "display_data"
        },
        {
          "data": {
            "application/vnd.jupyter.widget-view+json": {
              "model_id": "c98e85846f484630b9ea331d05db9edd",
              "version_major": 2,
              "version_minor": 0
            },
            "text/plain": [
              "Downloading data:   0%|          | 0.00/1.17M [00:00<?, ?B/s]"
            ]
          },
          "metadata": {},
          "output_type": "display_data"
        },
        {
          "data": {
            "application/vnd.jupyter.widget-view+json": {
              "model_id": "f24a74aff8cb4234914f90271a07d19a",
              "version_major": 2,
              "version_minor": 0
            },
            "text/plain": [
              "Extracting data files:   0%|          | 0/1 [00:00<?, ?it/s]"
            ]
          },
          "metadata": {},
          "output_type": "display_data"
        },
        {
          "data": {
            "application/vnd.jupyter.widget-view+json": {
              "model_id": "",
              "version_major": 2,
              "version_minor": 0
            },
            "text/plain": [
              "Generating train split: 0 examples [00:00, ? examples/s]"
            ]
          },
          "metadata": {},
          "output_type": "display_data"
        },
        {
          "name": "stdout",
          "output_type": "stream",
          "text": [
            "Dataset json downloaded and prepared to C:/Users/NijatZ/.cache/huggingface/datasets/azcorpus___json/azcorpus--azcorpus_v0-3db7312adfab2050/0.0.0/fe5dd6ea2639a6df622901539cb550cf8797e5a6b2dd7af1cf934bed8e233e6e. Subsequent calls will reuse this data.\n"
          ]
        },
        {
          "data": {
            "text/plain": [
              "50.33209943771362"
            ]
          },
          "execution_count": 30,
          "metadata": {},
          "output_type": "execute_result"
        }
      ],
      "source": [
        "dataset = load_dataset(\"azcorpus/azcorpus_v0\", split='train')"
      ]
    },
    {
      "cell_type": "code",
      "execution_count": null,
      "metadata": {
        "id": "o4BsR9-206fF",
        "outputId": "cf267be8-f8d6-455d-e44d-78640bde45eb"
      },
      "outputs": [
        {
          "data": {
            "text/plain": [
              "{'id': '77e924a2-dc1d-40e1-ad36-f6452dc40964',\n",
              " 'text': 'Yeddi kilsə monastır kompleksi Qax rayonunun Ləkit Kötüklü kəndi ərazisində, indi xalq arasında Yeddi kilsə adı ilə məşhur olan alban monastır kompleksi, uzun müddət alban kilsəsi yepiskopluğunun mərkəzi olmuş abidə. Məhz bununla əlaqədar olaraq bu ərazi qədim dövrlərdən Kax, yəni dini mərkəz, din sarayı adlanır. Kompleksdə eramızın əvvəllərinə aid doqquz abidənin qalıqları vardır. Kompleks 1980-ci ildən sonra baxımsızlıqdan sürətlə dağılmağa başlamışdır. Hazırda qəzalı vəziyyətdədir. Məbədin tarixiylə bağlı kifayət qədər məlumat qorunmamışdır. Lakin məbədin IV-V əsrlərdə Qafqaz Albaniyasında xristianlığın çiçəkləndiyi bir dövrdə inşa edildiyi güman olunur. Belə ki, Albaniyanın Alban Arşakiləri sülaləsindən olan hökmdarı III Mömün Vaçaqanın hakimiyyətə gəldikdən sonra, sonradan Alban Həvvari Kilsəsinin katolikosu olan Müqəddəs Qriqoris in təhriki və təsiri ilə xristianlıq Qafqaz Albaniyasında rəsmi dövlət dini elan edilir. Albaniyada əsası hələ əsrdən qoyulan xristian icması müstəqil şəkildə və geniş fəaliyyət göstərməyə başlayır. III Mömin Vaçaqanın əmri ilə ölkənin hər yerində kilsələr və monastırlar inşa edilir, dini təhsil verən məktəblər açılır. Məhz Yeddi kilsə monastır kompleksinin də zaman inşa edildiyi düşünülür. Azərbaycanın dini memarlıq abidələri içərisində Yeddi Kilsə kompleksi özünün gözəl yeganəliyinə görə fərqlənir. Komppleks tarixi Azərbaycan ərazisində Qafqaz Albaniyasının ən qədim monastır kompleksərindən biridir. Monastırın ərazisində 1980 ci ildən arxeoloji tədqiqat işləri aparılmaqdadır. Tədqiqatlar göstərmişdir ki, ərazidə böyük, əzəmətli kompleks mövcud olmuşdur. Kompleksə dini və mülki binalarla yanaşı, darvazalı müdafiə divarları, sovməələr, və Kilsə qalası adlı kiçik qala daxildir. Kompleksin dini tikililəri arasında ən qədimi üç nefli məbəd, ondan şərqdə yerləşən əsas xaçvari günbəzli məbəd, həmçinin monastırın geniş ərazisinin mərkəzində inşa edilmiş beş sovməə daxildir. Yeddi Kilsə monastır kompleksi Kürün sol sahilində dövrümüzə çatmış ən böyük kompleksdir. Monastırın dini tikililəri Ləkitçay dərəsinin kənarında, yarımhalqa şəklində dağların yamacları ilə əhatə olunan hamarlanmış meydançada yüksəlir. Bir qədər yuxarıda terraslarda təsərrüfat və yaşayış yerləşgələri vardır ki, onların planı hələ Kompleksə ümumilkdə doqquz abidə daxildir ki, onlardan da yeddisi kilsələr və onlara bitişik olan rahiblərin və qonaqların yaşaması üçün binalar, zəng qülləsi, Hündür keşikçi qülləsi və kompleksin təmin etmək üçün çəkilmiş möhkəm qala divarlarıdır. Kompleksə daxil olan kilsələrdən yalnız baş kilsə bir qədər böyükdür və üç neflidir. Digər altı kilsə isə bir nefli kiçik kilsələrdir. Kilsə binalarının hamısı bazilika formasında inşa edilmişdir. Ərazidən tapılan çoxlu kirəmit qalıqları və kilsələrin salamat qalmış dam hissələri binaların üstünün örtülməsi üçün səliqə ilə hazırlanmış kirəmitlrdən istifadə edildiyini söyləməyə əsas verir. Kompleksə dail olan abidələrin hamısının fasadı səliqə ilə kəsilmiş daşlarla üzlənmişdir. Lakin daşların üstündə heç bir oyma bəzək və naxışlara rast gəlinməmişdir. Bütün bu sadə quruluş isə özlüyündə kompleksə əzəmət bəxş etmişdir. Əsas kilsə binası da daxil olmaqla kompleksin bütün binaları çay və əhəng daşları və əhəng məhlulu qatışığı ilə inşa edilmiş, səliqəli kəsilmiş daşlarla üzlənmişdir. Kilsələrin hamısı binanın cənubunda və şimalında cüt yerləşdirilmiş ensiz və uzunsov pəncərələr vasitəsiylə Lakin sonrakı dövrdə naməlum səbəbdən bütün kilsələrin Şimaldakı pəncərələri qapadılmışdır. Tikintisi VI əsrlərə aid edilən, apsidaları divar layından qabağa çıxan üç nefli Müqəddəs Faddey bazilikası və ya Qərb məbədi kompleksin ən qədim və böyük məbədidir. O, digər tikililərdən bir qədər aralı, indi monastır ərazisindən keçən yolun qərb tərəfində yerləşir. Qalan bütün dini tikililər isə şərq tərədə qruplaşıb. Özünün çoxəsrlik mövcudluğu tarixində bazilika əsaslı dəyişiklərə məruz qalmışdır. Arxeoloji tədqiqatlar nəticəsində məbədin ilkin görünüşünü bərpa etmək mümkün olmuşdur. Arxeoloqların fikrinə görə, ki sütunlu və üç yarımdairəvi çıxıntıdan ibarət altar hissəsi olan məbədin ilkin tikini mərhələsi VI, ikinci tikinti mərhələsi VII-VIII əsrlərə, üçüncü tikinti mərhələsi isə XI-XII əsrlərə aid edilir. Məbəd əvvəlcə, güman ki, günbəzsiz olmuş və yalnız ikinci dəfə yenidənqurma zamanı məbədə günbəz əlavə edilmişdir. Məbədin iç məkanında üçneflilik iki pilonla və qərb divarında onlara uyğun gələn kürəkilərlə əldə edilmişdir. Şərq hissə dərin yarımdairəvi altar apsidasından və apsidal iki xidmət yerləşgəsindən ibarətdir. Apsidalar xarici divarların əmələ gətirdiyi düzbucaqlının içərisinə daxil edilməmişdir. Giriş qapıları əvvəlcə qərb, şimal və cənub divarlarına yerləşmişdir. Narteks kilsənin ümumi məkanına daxil idi və yalnız sonralar divarla ondan ayrılmışdır. Məbədin yaxın analoqları Qum bazilikası, Ağoğlan monastırının əsas bazilikası və Xudavəng monastır kompleksinə daxil olan həcmcə kiçik bazilikadır. Bu məbəd binalarını birbirinə nəinki tipoloji əlamətlər, həmçinin altar hissənin biçimi, sütubların forması, qapı açırımlarının yerləşmə tərzi, yan divarlarda kürəklərin olmaması və sair bu kimi detallar yaxınlaşdırır. Genetik və analogiyalar, arxeoloqların məbədin inşası haqqında söylədiyi tarixi təsdiq edir. Bina xarcdən düzbucaqlı quruluşa malik olub, daxildə sütunlar və tağlar vasitəsiylə üç nefə ayrılmışdır. Kilsənin Şimal hissəsində apsisi, apsisin hər iki tərəfində isə kiçik cübbəxana otaqları vardır. Kiləsinin üç girişi vardır. Cənub, Şərq və Qərb girişləri arasında Şərq girişi kiçik olması ilə digərlərindən fərqlənir. Sütunların düzülüşü mərkəzi nefdə düzbucaqlı quruluş meydana gətirmişdir. Kilsənin içi də fasadı kimi olduqca sadə və bununla bərabər dəbdəbəli təsir bağışlayır. Kilsənin daili divarlarında heç bir freska yoxdur. Lakin sütunların bəzilərinin üstündə oyma üsulu ilə alban xaçları həkk edilmişdir. Daxili divarlar ağ rəngə boyanmışdır. Bazilikanın yanlarında sırf xristian funksiyaları daşıyan iki əlavə tikili vardır. Sağ tərəfdə ibadət otağı, sol tərəfdə isə qurbangah mövcuddur. Təxminən mərkəzdə iki sütun və qalın taxtalı qərb divarında iki pilyastr yerləşmişdir. Yanlardakı neflərin və ortadakı daha uca nefin tağları onlara, habelə iki apsidaya dayaqlanmışdır. Məbədin qərb tərəfində sonrakı alban kilsə memarlığı üçün çox səciyyəvi olan qalereya formalı örtük vardı. Göstərilən örtük ilk dəfə Qumdakı bazilikada meydana gəlmiş örtük mövzusunun davamıdır. Mütəxəssislər güman edir ki, bu məbəd IV-VI əsrlərdə tikilmişdir. Fasadların kobud şəkildə yonulmuş daşlardan yaradılmış memarlığı üçnefli bazilikalar üçün səciyyəvi olan qabarıq mərkəzi hissəli monumental binanı təşkil edir. Açıq qalereya formalı örtük abidəyə cənub koloriti vermişdir. Cənubi Qafqazın erkən orta əsrlər memarlığında xaç-günbəz mövzusu iki və dörd müstəqil dayanan stunlu variantda inkişaf etdirilmişdi. Yeddi kilsə monastır kompleksinə daxil olan xaç-günbəz tipli məbəd, Azərbaycan ərazisində bu tipli abidələrin ən yaxşı saxlanılmış nümunəsidir. G. Məmmədovanın sözlərinə görə, məbədin dövrümüzə çatmış yan neflərinin örtüyü, altar qrupu, şimal divarı və iki pilona əsasən məbədin planlaşdırma və konstruktiv həllini bərpa etmək mümkün olmuşdur. Məbəd binası kifayət qədər geniş ölçülərə malik planda düzbucaqlı formaya malik üçnefli binadır. Uzun bölməyə malik iki pilon və onlara uyğun olan qərb divarındakı çıxıntılar, həmçinin altar hissəsi onun mərkəzi nefini yan neflərinə nisbətən daha geniş edir. Altar qrupu dərin bemaya malik apsida və iki yan otaqdan ibarətdir. Məbədin iki girişi şimal və cənub divarlarında yerləşmiş, ola bilsin ki, dağılmış qərb divarında isə üçüncü giriş olmuşdur. Məbəd transeptdəki pəncərə, altar yaxınlığındakı pəncərə və qərb divarındakı üç pəncərə vasitəsiylə Uzun formaya malik altar yanı otaqlar da işıqlandırmaya malikdir. Həmin otaqların daxili həcmi və ortüyü bəzən çox nazilən , yarımdil kəsimli tağlı pilyastrlar vasitəsiylə iki hissəyə bölünmüşdür. Yarımdairəvi şərq hissəsinin örtüyü konxalı və tağlıdır. Maraqlıdır ki, məbədin şimal yan otağını yan nefdən ayıran divar xarici divarla və hazırda onlar arasında 1-2 sm boşluq görünməkdədir. Bu onu sübut edir ki, ilkin tikilinin yan nefi uzununa açıq olmuşdur. Altar apsidası konxa ilə örtülmüşdür. Konxanın şimal hissəsində yonulmuş daş plitələrdən çəkilmiş üzlük qalmışdır. Transeptin yan kəsimlərində iki tağda yarımdairəvi kəmər saxlanmışdır. Onun yuxarı hissəsində kiçik qırılma vardır. Bu xüsusiyyət erkən orta əsrlər memarlığının oxvari tağları üçün xarakterikdir. Tağların divara konsol dəstəyi daxili həcmin rasional istifadəsinə imkan verir. Yan neflərin künc hissələri yarımdairəvi tağlarla örtülüdür. Həmin tağlar yan divarlara və pilonlardan qərb divarına uzanan tağa söykənirlər. Mərkəzi nefin qərb kəsimi də oxşar profilli tağ-tavanla örtülmüşdür. Mərkəzi və yan neflərin tənzimləyici tağları tikilini və onun tağlarını digər strukturlarla birlikdə özünəməxsus bir karkas sistemi formalaşdırır ki, bu da binanın zəlzələyə davamlığını artırır. Transept və orta nefin formalaşdırdığı yerdə kvadrat formalı təməli pilonlar və altar bemasının çıxışlarına dayanan günbəz ucalırdı. Məbədin saxlanmış hissələri onun ümumi görünüşü haqqında təəssürat yaradır. Bazilikanın ağ daşlardan hörülmüş həcmi qırmızı kirəmitdən olan və ortasında baraban və günbəz ucalan damla örtülmüşdü. Üç girişin və pəncərələrin tağlı çərçivəsi, həmçinin yüksk profili karniz məbədin əsas dekor elementlərini təşkil edirdi. Transeptin yan divarları üzərində yüksələn maşalar yan fasadlarda yeganə olan pəncərəyə yönəlmişdi. Şərq divarında üç pəncərə yeri vardir və saxlanmamış qərb divarında da müvafiq olaraq qədər pəncərənin olması ehtimal edilir. Yaxşı yonulmuş daşdan hazırlanmış pəncərə yerlərinin həll edilməsi diqqət çəkir. Gümbəzaltı hissənin kapiteli küncdə kəsilə xəttli valla Altar beminin çıxışları da maraqlı formada həll edilmişdir. Kilsənin şərq dirək cütləri altar hissəsinə qarışdığına görə günbəz müstəqil dayanan iki pilon və altar apsidasının çıxıntısına söykənir. Pilonların uzun forması onların çarpaz formasının daşıyıcı itirmədən azaldılması üçün yaradılmışdı. Günbəzaltı kvadratdan başqa, onlar həm də məbədin qərb hissəsindəki tağların bir hissəsinin yükünü daşıyaraq, məbədin dayanıqlığını artırırlar. Yan neflərin günbəzə birləşən nefləri və mərkəzi gəminin qərb hissəsi planda xaçvari forma yaradır. G. Məmmədovanın fikrincə transeptin varlığı və həcmdə mərkəzliyin üstünlük təşkil etməsi məbədi xaç-günbəz tiplu kilsələr qrupuna aid etməyə imkan verir. Lakin, orta nefin yan neflərdən fərqlənən hündürlüyə malik olmaması onu bu tipdə olan digər məbədlərdən uzaqlaşdırır. G. Məmmədova qeyd edir ki, Yeddi kilsə monastırının Şərq məbədi Qafqaz Albaniyasının ərəblərin işğalından əvvəl, VII əsrdə inşa edilmiş ən erkən xaç-günbəz tipli kilsələri sırasına aiddir. Kompleksin xaçvari günbəzli məbədi də böyük maraq kəsb edir. Özünün üslub görə məbəd xristian memarlığının ərəblərə qədərki dövrünə aiddir. Bu məbədin Qafqaz Albaniyasının məbədlərinin ilk örnəyi olması hesab edilir. Yan neflərin dam örtüyünə qədər saxlanmış cənub və şimal divarları, altar qrupu və iki pilon məbədin plan və konstruktiv həllini bərpa etməyə imkan verir. Məbədin dövrümüzə çatmış qalıqları onun keçmiş memarlıq siması haqqında təəvvür yaradır. Təxminən binanın mərkəzində qurulmuş günbəzli baraban kirəmit dam örtüyünə malik ağ daş tutumu tamamlayırdı. Pəncərə açırımlarının tağlı haşiyələri, həçinin hündür profilli karniz məbəd dekorunun əsas elementlərini təşkil edir. Monastırın beş soməəsinin plan həlli eynidir və ölçüləri yaxındır. Onların hər biri iki kiçik tağçalı yarımdairəvi altar apsidası ilə bitişən kvadrat yerləşgədən ibarətdir. Plan və kompozisiya həllinin oxşarlığı eyni inşaat materiallarının işlədilməsi əksər sovməələrin bir vaxtda inşa edildiyini göstərir. Kobud şəkildə yonulmuş daşlardan tikilmiş dairəvi məbədlər, üçnefli bazilikalar, qalereya formalı örtüklər erkən orta çağlar dövründə Azərbaycanın sitayiş təyinatlı memarlığı üçün səciyyəvi idi. Bu bazilikaların ətrafında birnefli zəng qülləsi vardır. Həmin zəng qüllələri vahid memarlıq üslubunda tikilmişdir. Bu cür qüllələr göstərilən bölgə üçün səciyyəvidir. Güman etmək olar ki, həmin qüllələr hələ bütpərəstlik dövründə inşa edilmişdir. Çünki, bütpərəstlik dövründən qalmış məbədlər bir çox hallarda yenidənqurmadan sonra xristian kilsələri və zəng qüllələri kimi istifadə olunurdu. Qazıntılar zamanı külli miqdarda maddi mədəniyyət nümunələri saxsı qablar, müxtəlif materiallardan hazırlanmış xaçlar və şamdanlar və digər məişət əşyaları əldə edilmişdir. Qazıntıların ən mühüm nəticəsi isə böyük bir daş üzərində yazılmış kitabənin tapılması olmuşdur. Lakin bütün bu tapıntılar kitabə də daxil olmaqla, tədqiqata və elmi dövriyyəyə cəlb edilməmiş müəmmalı şəkil ölkədən çıxarılaraq aparılmışdır. Bu gün də həmin kitabədə nələrdən bəhs edilməsi və digər tapıntılar haqqında heç nə məlum deyil. Bütün bunlar isə məbəd kompleksi ilə bağlı yerli əhali arasında bu günə qədər yaşadılan və inanılan əfsanələrə müraciət etməyə imkan verir. Məbədlə bağlı əfsanəyə görə monastır komleksində ibadət edən rahiblər vaxtilə Attilanın dördə nəvəsi romalılardan qorunub saxlanıb. Digər bir əfsanəyə görə isə Attilanın dörd nəvəsi ölümündən sonra kompleksin ərazisində dəfn edilib və kilsələr onların xatirəsini əbədiləşdirmək üçün inşa edilib. Lakin bu əfsanələrin həqiqət olduğunu təsdiqləyən heç bir yazılı mənbə yoxdur. Əvəzində tarixi hadisələr əfsanələrdə təsvir edilən hadisələrin gerçək olması ehtimalını yaradır. Alban tarixçisi Moisey Kalankatlının verdiyi məlumat və eləcə də həmdövr mənbələrin təsdiq etdiyi bəllidr ki, IV-V əsrlərdə Qafqaz Albaniyası ərazisinə Şimaldan köçəri türk tayfalarının kütləvi köçü və məskunlaşması baş verir. Başqa bir fakt da məlumdur ki, Qafqaz Albaniyasında məskunlaşan köçəri türk tayfaları əsasən xristian əhalinin deyil, xristianlıqdan əvvəlki dini etiqadlarını qoruyan əhalinin tərəfini saxlayırdı. Lakin bu zaman xristian rahiblərinin böyük türk sərkərdəsinin nəvələrini qoruması inandırıcı görünmür. Lakin xırda bir qeydi nəzərə almasaq. Belə ki, tarixən Sasanilərin və Bizansın zaman zaman hunların hərbi gücündən istifadə etməsi faktları məlumdur. Belə olduğu halda Sasanilər imperiyasının vassalı olan alban rahiblərinin Attilanın nəvələrini Yeddi kilsə monastır kompleksi ərazisində qoruyub saxlaması inandırıcı görünür. Başqa bir məsələ, kompleksin müdafiə xarakterli tikililərlə zəngin olması da əfsanələrin hansısa gerçəklikdən xəbər verməsinə işarə edir. Belə ki, Kompleksin ətrafı böyük qalayla əhatələnib, kompleksin ərazisində isə müşahidə qüllələri mövcuddur. Bundan başqa tədqiqatlar zamanı kilsələrin Şimal divarlarında yerləşən bütün pəncərələrin sonradan qapadılması müəyyən edilmişdir. Lakin sadalanan bütün faktlar tarixi mənbələr vasitəsiylə sübut edilmədiyindən sadəcə əfsanə olaraq qalır. ',\n",
              " 'source': 'az_wiki',\n",
              " 'reliability': 4,\n",
              " 'license': 'Public Domain'}"
            ]
          },
          "execution_count": 37,
          "metadata": {},
          "output_type": "execute_result"
        }
      ],
      "source": [
        "dataset[0]"
      ]
    },
    {
      "cell_type": "markdown",
      "source": [
        "### __3. Feedback any issues__\n",
        "\n",
        "Please feel free to provide feedback on any data quality issues by visiting example [issue](https://github.com/azcorpus/azcorpus_v0/issues/1) on GitHub repo.\n",
        "\n",
        "![](https://user-images.githubusercontent.com/31247506/229780677-5a85dbbc-8f31-4c8d-82e0-46e15e201a29.PNG)"
      ],
      "metadata": {
        "id": "2hU01zYfCIWc"
      }
    },
    {
      "cell_type": "markdown",
      "source": [
        "### __F.A.Q__\n",
        "\n",
        "__Q: What can I use an azcorpus for?__\n",
        "\n",
        "A: azcorpus can be used for various tasks such as language modeling, text generation, and more. It can also be used for research and experimentation in the field of natural language processing related to text generation.\n",
        "\n",
        "__Q: Are there any restrictions on accessing azcorpus?__\n",
        "\n",
        "Yes,  permission request will be rejected in the following cases.\n",
        "\n",
        " - The requestor fails to provide sufficient information or justification for his\\her request.\n",
        "\n",
        " - The corpus is no longer available or relevant.\n",
        "\n",
        " - The corpus is under review or being updated, and access is temporarily restricted.\n",
        "\n",
        " - The requestor's organization or affiliation is not reputable or trustworthy.\n",
        "\n",
        " - The requestor's use of the corpus poses a potential risk to privacy, security, or confidentiality of the data or subjects represented in the corpus.\n",
        "\n",
        " - The requestor fails to comply with any requirements or conditions established for accessing the corpus.\n",
        "\n",
        " - The requestor has previously been denied access to the corpus and has not addressed the reasons for the denial.\n",
        "\n",
        "__Q: Will you be updating the corpus continuously?__\n",
        "\n",
        "Yes, we will take into consideration user's reports and our observations, and undertake diligent efforts towards refining our corpus to a higher standard of cleanlinessr\n",
        "\n",
        "\n"
      ],
      "metadata": {
        "id": "5r6lc1AlExQT"
      }
    },
    {
      "cell_type": "code",
      "source": [],
      "metadata": {
        "id": "9RR0b7rOHSku"
      },
      "execution_count": null,
      "outputs": []
    }
  ],
  "metadata": {
    "colab": {
      "provenance": []
    },
    "kernelspec": {
      "display_name": "Python 3 (ipykernel)",
      "language": "python",
      "name": "python3"
    },
    "language_info": {
      "codemirror_mode": {
        "name": "ipython",
        "version": 3
      },
      "file_extension": ".py",
      "mimetype": "text/x-python",
      "name": "python",
      "nbconvert_exporter": "python",
      "pygments_lexer": "ipython3",
      "version": "3.9.12"
    }
  },
  "nbformat": 4,
  "nbformat_minor": 0
}